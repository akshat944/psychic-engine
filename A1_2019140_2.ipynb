{
  "nbformat": 4,
  "nbformat_minor": 0,
  "metadata": {
    "colab": {
      "provenance": [],
      "collapsed_sections": []
    },
    "kernelspec": {
      "name": "python3",
      "display_name": "Python 3"
    },
    "language_info": {
      "name": "python"
    }
  },
  "cells": [
    {
      "cell_type": "markdown",
      "source": [
        "Q2"
      ],
      "metadata": {
        "id": "o963OyvO93YN"
      }
    },
    {
      "cell_type": "markdown",
      "source": [
        "1."
      ],
      "metadata": {
        "id": "VkgAXVSf966C"
      }
    },
    {
      "cell_type": "code",
      "source": [
        "# pip install english-words"
      ],
      "metadata": {
        "id": "5R3cY-FfBXJ1"
      },
      "execution_count": null,
      "outputs": []
    },
    {
      "cell_type": "code",
      "source": [
        "from english_words import english_words_set\n",
        "'hello' in english_words_set"
      ],
      "metadata": {
        "colab": {
          "base_uri": "https://localhost:8080/"
        },
        "id": "JL-ODnewBik3",
        "outputId": "4151552a-c3d6-4e98-a3f3-acd19aed62df"
      },
      "execution_count": 2,
      "outputs": [
        {
          "output_type": "execute_result",
          "data": {
            "text/plain": [
              "True"
            ]
          },
          "metadata": {},
          "execution_count": 2
        }
      ]
    },
    {
      "cell_type": "code",
      "source": [
        "xyz = [\"AlAo%12%%\",\"AbcA#d123%\",\"123hello%Xyz678\",\"123\"]\n",
        "dig = '0123456789'\n",
        "sp = '#$%&!'\n",
        "alph = 'abcdefghijklmnopqrstuvwxyz'\n",
        "calpha = 'ABCDEFGHIJKLMNOPQRSTUVWXYZ'"
      ],
      "metadata": {
        "id": "dOaFCuuU96ar"
      },
      "execution_count": 3,
      "outputs": []
    },
    {
      "cell_type": "code",
      "execution_count": 4,
      "metadata": {
        "colab": {
          "base_uri": "https://localhost:8080/"
        },
        "id": "CM5W33g_7c1m",
        "outputId": "68bba735-7460-4948-c866-f173e1f1ad15"
      },
      "outputs": [
        {
          "output_type": "stream",
          "name": "stdout",
          "text": [
            "Valid\n",
            "Valid\n",
            "Invalid\n",
            "Invalid\n"
          ]
        }
      ],
      "source": [
        "for i in range(len(xyz)):                                       # checks validity \n",
        "  if len(xyz[i]) >= 8:\n",
        "    #print(True)\n",
        "    z=xyz[i]\n",
        "    dc=z[1:len(z)-1]\n",
        "    r_1 = set(list(xyz[i])).intersection(list(alph))\n",
        "    r_2 = set(list(dc)).intersection(list(calpha))\n",
        "    r_3 = set(list(dc)).intersection(list(sp))\n",
        "    r_4 = set(list(xyz[i])).intersection(list(dig))\n",
        "    if len(r_1) > 0 and len(r_2) > 0 and len(r_3) > 0 and len(r_4) > 0 :\n",
        "      #print(True)\n",
        "      b = 0\n",
        "      for j in english_words_set:\n",
        "        if j in xyz[i] and len(j) >=3:\n",
        "          b = 1\n",
        "      if b ==1: print(\"Invalid\")\n",
        "      else: print(\"Valid\")\n",
        "    else:\n",
        "      print(\"Invalid\")\n",
        "  else:\n",
        "    print(\"Invalid\")"
      ]
    },
    {
      "cell_type": "markdown",
      "source": [
        "2.\n"
      ],
      "metadata": {
        "id": "jy9I5o-wUt2k"
      }
    },
    {
      "cell_type": "code",
      "source": [
        "import random"
      ],
      "metadata": {
        "id": "TpYLcDkuUvwk"
      },
      "execution_count": 5,
      "outputs": []
    },
    {
      "cell_type": "code",
      "source": [
        "def cpx(xy):\n",
        "  for i in range(len(xy)):\n",
        "    if len(xy[i]) >= 8:\n",
        "      #print(True)\n",
        "      z=xy[i]\n",
        "      dc=z[1:len(z)-1]\n",
        "      r_1 = set(list(xy[i])).intersection(list(alph))\n",
        "      r_2 = set(list(dc)).intersection(list(calpha))\n",
        "      r_3 = set(list(dc)).intersection(list(sp))\n",
        "      r_4 = set(list(xy[i])).intersection(list(dig))\n",
        "      if len(r_1) > 0 and len(r_2) > 0 and len(r_3) > 0 and len(r_4) > 0 :\n",
        "        #print(True)\n",
        "        b = 0\n",
        "        for j in english_words_set:\n",
        "          if j in xy[i] and len(j) >=3:\n",
        "            b = 1\n",
        "        if b ==1: return False\n",
        "        else: return True\n",
        "      else:\n",
        "        return False\n",
        "    else:\n",
        "      return False"
      ],
      "metadata": {
        "id": "2TOPxpbbiWpQ"
      },
      "execution_count": 6,
      "outputs": []
    },
    {
      "cell_type": "code",
      "source": [
        "def generatep():\n",
        "  le = random.randrange(8,30)\n",
        "  out = [0]*le\n",
        "  x = [n for n in range(le)] \n",
        "  for i,j in enumerate(x):\n",
        "    r = random.choice(x)\n",
        "    x = [a for a in x if a != r]\n",
        "    uc = random.randrange(1,5)\n",
        "    if (uc==1):\n",
        "        out[r] = random.choice(list(alph))  \n",
        "    elif(uc==2):\n",
        "        out[r] = random.choice(list(calpha))            #basically these 4 conditions should be there if its not I get fked .. so I randomized everything . if by any chance the pass generated is not valid .. it reruns\n",
        "    elif(uc==3):\n",
        "        out[r] = random.choice(list(sp))\n",
        "    elif(uc==4):\n",
        "        out[r] = random.choice(list(dig))\n",
        "  outt= ''\n",
        "  for i in range(len(out)):\n",
        "    outt=outt+str(out[i])\n",
        "  lin = list()\n",
        "  lin.append(outt)\n",
        "  if cpx(lin) == True:\n",
        "    print(outt)\n",
        "  else: \n",
        "    generatep()"
      ],
      "metadata": {
        "id": "thThFUJUb4wV"
      },
      "execution_count": 7,
      "outputs": []
    },
    {
      "cell_type": "code",
      "source": [
        "generatep()"
      ],
      "metadata": {
        "colab": {
          "base_uri": "https://localhost:8080/"
        },
        "id": "anpqUCABhjeK",
        "outputId": "c8b5b3b1-6c34-4846-c590-6eb6f1f64175"
      },
      "execution_count": 10,
      "outputs": [
        {
          "output_type": "stream",
          "name": "stdout",
          "text": [
            "$#y7819X%6kjEPnBy2KChSl668&\n"
          ]
        }
      ]
    }
  ]
}